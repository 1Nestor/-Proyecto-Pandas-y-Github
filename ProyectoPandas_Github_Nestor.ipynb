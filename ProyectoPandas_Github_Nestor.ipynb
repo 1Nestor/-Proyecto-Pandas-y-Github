{
 "cells": [
  {
   "cell_type": "markdown",
   "metadata": {},
   "source": [
    "# Proyecto 1. Pandas\n",
    "Con el fichero Fichero `sample_NYC_parking_issues.csv`\n",
    "\n",
    "\n",
    "**Importante:** los cambios se arrastran en las siguientes preguntas.\n",
    "\n",
    "\n",
    "### Crea un proyecto en Github para esta entrega e incluye un fichero Readme.md\n",
    "Asegurate que es público ya que solo se puede entregar la URL del proyecto en github.\n",
    "<hr/>"
   ]
  },
  {
   "cell_type": "markdown",
   "metadata": {},
   "source": []
  },
  {
   "cell_type": "code",
   "execution_count": 8,
   "metadata": {},
   "outputs": [],
   "source": [
    "import pandas as pd\n",
    "import numpy as np\n"
   ]
  },
  {
   "cell_type": "code",
   "execution_count": 28,
   "metadata": {},
   "outputs": [
    {
     "data": {
      "text/plain": [
       "(10000, 44)"
      ]
     },
     "execution_count": 28,
     "metadata": {},
     "output_type": "execute_result"
    }
   ],
   "source": [
    "path=(\"C:/Users/MSI/Desktop/Entrega_python_pandas_Nestor/\")\n",
    "df=pd.read_csv(path+\"sample_NYC_parking_issues.csv\",sep=\";\")\n",
    "df.head\n",
    "df.shape"
   ]
  },
  {
   "cell_type": "markdown",
   "metadata": {},
   "source": [
    "### A) Limpia el dataframe de aquellas columnas con todos sus campos a NAN"
   ]
  },
  {
   "cell_type": "code",
   "execution_count": null,
   "metadata": {},
   "outputs": [
    {
     "name": "stdout",
     "output_type": "stream",
     "text": [
      "Unnamed: 0                               0\n",
      "Summons Number                           0\n",
      "Plate ID                                 2\n",
      "Registration State                       0\n",
      "Plate Type                               0\n",
      "Issue Date                               0\n",
      "Violation Code                           0\n",
      "Vehicle Body Type                      113\n",
      "Vehicle Make                            82\n",
      "Issuing Agency                           0\n",
      "Street Code1                             0\n",
      "Street Code2                             0\n",
      "Street Code3                             0\n",
      "Vehicle Expiration Date                  0\n",
      "Violation Location                     727\n",
      "Violation Precinct                       0\n",
      "Issuer Precinct                          0\n",
      "Issuer Code                              0\n",
      "Issuer Command                         708\n",
      "Issuer Squad                           708\n",
      "Violation Time                           1\n",
      "Time First Observed                   8903\n",
      "Violation County                       760\n",
      "Violation In Front Of Or Opposite      821\n",
      "Number                                 916\n",
      "Street                                   2\n",
      "Intersecting Street                   7962\n",
      "Date First Observed                      0\n",
      "Law Section                              0\n",
      "Sub Division                             0\n",
      "Violation Legal Code                  9291\n",
      "Days Parking In Effect                1529\n",
      "From Hours In Effect                  3620\n",
      "To Hours In Effect                    3620\n",
      "Vehicle Color                           69\n",
      "Unregistered Vehicle?                 8622\n",
      "Vehicle Year                             0\n",
      "Meter Number                          7752\n",
      "Feet From Curb                           0\n",
      "Violation Post Code                   2085\n",
      "Violation Description                 1378\n",
      "No Standing or Stopping Violation    10000\n",
      "Hydrant Violation                    10000\n",
      "Double Parking Violation             10000\n",
      "dtype: int64\n"
     ]
    },
    {
     "data": {
      "text/plain": [
       "89671"
      ]
     },
     "execution_count": 31,
     "metadata": {},
     "output_type": "execute_result"
    }
   ],
   "source": [
    "print(df.isnull().sum()) # para saber cuantos NAN hay por columan en el DF. Al haber tantas columans no permite visualizar bien\n",
    "\n",
    "df.isnull().sum().sum() # Se suman todos los NAN que hay en el DF\n"
   ]
  },
  {
   "cell_type": "markdown",
   "metadata": {},
   "source": [
    "### B) Elimina todas las muestras donde la fecha no tenga coherencia: `Vehicle Year`, además transformalas a enteros (2024,2012,2006,etc.)"
   ]
  },
  {
   "cell_type": "code",
   "execution_count": null,
   "metadata": {},
   "outputs": [],
   "source": []
  },
  {
   "cell_type": "markdown",
   "metadata": {},
   "source": [
    "### C) Hay marcas de vehículos que no guardan sentido con ninguna marca real (`Vehicle Make`) elimina dichas muestras. Deja constancia de cuantas has borrado."
   ]
  },
  {
   "cell_type": "code",
   "execution_count": null,
   "metadata": {},
   "outputs": [],
   "source": []
  },
  {
   "cell_type": "markdown",
   "metadata": {
    "vscode": {
     "languageId": "plaintext"
    }
   },
   "source": [
    "### D) Representa en un grafíco de barras la cantidad de vehículos (por marca `Vehicle Make`) "
   ]
  },
  {
   "cell_type": "code",
   "execution_count": null,
   "metadata": {},
   "outputs": [],
   "source": []
  },
  {
   "cell_type": "markdown",
   "metadata": {},
   "source": [
    "### E) Unifica lo máximo que puedas la terminología de colores. Por ejemplo, valores como `WH` y `wh`y `wh\\`hacen referencia al `white`"
   ]
  },
  {
   "cell_type": "code",
   "execution_count": null,
   "metadata": {},
   "outputs": [],
   "source": []
  },
  {
   "cell_type": "markdown",
   "metadata": {},
   "source": [
    "### F) Representa en un gráfico de barras las marca de vehículo segmentadas por colores de vehículos."
   ]
  },
  {
   "cell_type": "code",
   "execution_count": null,
   "metadata": {},
   "outputs": [],
   "source": []
  },
  {
   "cell_type": "markdown",
   "metadata": {},
   "source": [
    "### H) Subé este código a tu repositorio. Incluye un documento Readme.md Indicando tan solo: \"H\""
   ]
  },
  {
   "cell_type": "markdown",
   "metadata": {},
   "source": [
    "### I) Convierte la serie `Issue Date` en una serie temporal y contabiliza las multas por `Violation Code[] y més del Issue Date."
   ]
  },
  {
   "cell_type": "code",
   "execution_count": null,
   "metadata": {},
   "outputs": [],
   "source": []
  },
  {
   "cell_type": "markdown",
   "metadata": {},
   "source": [
    "### J) Visualiza la anterior cuestión (I)"
   ]
  },
  {
   "cell_type": "markdown",
   "metadata": {},
   "source": []
  },
  {
   "cell_type": "markdown",
   "metadata": {},
   "source": [
    "### K) Subé este código a tu repositorio. Sustituye la 'H' del readme.md por un 'end'"
   ]
  },
  {
   "cell_type": "markdown",
   "metadata": {},
   "source": []
  }
 ],
 "metadata": {
  "kernelspec": {
   "display_name": "Python 3",
   "language": "python",
   "name": "python3"
  },
  "language_info": {
   "codemirror_mode": {
    "name": "ipython",
    "version": 3
   },
   "file_extension": ".py",
   "mimetype": "text/x-python",
   "name": "python",
   "nbconvert_exporter": "python",
   "pygments_lexer": "ipython3",
   "version": "3.12.0"
  }
 },
 "nbformat": 4,
 "nbformat_minor": 2
}
