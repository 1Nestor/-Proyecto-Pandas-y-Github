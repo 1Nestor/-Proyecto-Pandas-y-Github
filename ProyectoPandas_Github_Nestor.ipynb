{
 "cells": [
  {
   "cell_type": "markdown",
   "metadata": {},
   "source": [
    "# Proyecto 1. Pandas\n",
    "Con el fichero Fichero `sample_NYC_parking_issues.csv`\n",
    "\n",
    "\n",
    "**Importante:** los cambios se arrastran en las siguientes preguntas.\n",
    "\n",
    "\n",
    "### Crea un proyecto en Github para esta entrega e incluye un fichero Readme.md\n",
    "Asegurate que es público ya que solo se puede entregar la URL del proyecto en github.\n",
    "<hr/>"
   ]
  },
  {
   "cell_type": "markdown",
   "metadata": {},
   "source": []
  },
  {
   "cell_type": "code",
   "execution_count": 8,
   "metadata": {},
   "outputs": [],
   "source": [
    "import pandas as pd\n",
    "import numpy as np\n"
   ]
  },
  {
   "cell_type": "code",
   "execution_count": 78,
   "metadata": {},
   "outputs": [
    {
     "data": {
      "text/plain": [
       "(10000, 44)"
      ]
     },
     "execution_count": 78,
     "metadata": {},
     "output_type": "execute_result"
    }
   ],
   "source": [
    "path=(\"C:/Users/MSI/Desktop/Entrega_python_pandas_Nestor/\")\n",
    "df=pd.read_csv(path+\"sample_NYC_parking_issues.csv\",sep=\";\")\n",
    "df.head\n",
    "df.shape"
   ]
  },
  {
   "cell_type": "markdown",
   "metadata": {},
   "source": [
    "### A) Limpia el dataframe de aquellas columnas con todos sus campos a NAN"
   ]
  },
  {
   "cell_type": "code",
   "execution_count": 79,
   "metadata": {},
   "outputs": [
    {
     "name": "stdout",
     "output_type": "stream",
     "text": [
      "Unnamed: 0                               0\n",
      "Summons Number                           0\n",
      "Plate ID                                 2\n",
      "Registration State                       0\n",
      "Plate Type                               0\n",
      "Issue Date                               0\n",
      "Violation Code                           0\n",
      "Vehicle Body Type                      113\n",
      "Vehicle Make                            82\n",
      "Issuing Agency                           0\n",
      "Street Code1                             0\n",
      "Street Code2                             0\n",
      "Street Code3                             0\n",
      "Vehicle Expiration Date                  0\n",
      "Violation Location                     727\n",
      "Violation Precinct                       0\n",
      "Issuer Precinct                          0\n",
      "Issuer Code                              0\n",
      "Issuer Command                         708\n",
      "Issuer Squad                           708\n",
      "Violation Time                           1\n",
      "Time First Observed                   8903\n",
      "Violation County                       760\n",
      "Violation In Front Of Or Opposite      821\n",
      "Number                                 916\n",
      "Street                                   2\n",
      "Intersecting Street                   7962\n",
      "Date First Observed                      0\n",
      "Law Section                              0\n",
      "Sub Division                             0\n",
      "Violation Legal Code                  9291\n",
      "Days Parking In Effect                1529\n",
      "From Hours In Effect                  3620\n",
      "To Hours In Effect                    3620\n",
      "Vehicle Color                           69\n",
      "Unregistered Vehicle?                 8622\n",
      "Vehicle Year                             0\n",
      "Meter Number                          7752\n",
      "Feet From Curb                           0\n",
      "Violation Post Code                   2085\n",
      "Violation Description                 1378\n",
      "No Standing or Stopping Violation    10000\n",
      "Hydrant Violation                    10000\n",
      "Double Parking Violation             10000\n",
      "dtype: int64\n"
     ]
    },
    {
     "data": {
      "text/plain": [
       "89671"
      ]
     },
     "execution_count": 79,
     "metadata": {},
     "output_type": "execute_result"
    }
   ],
   "source": [
    "print(df.isnull().sum()) # para saber cuantos NAN hay por columan en el DF. Al haber tantas columans no permite visualizar bien\n",
    "\n",
    "df.isnull().sum().sum() # Se suman todos los NAN que hay en el DF\n"
   ]
  },
  {
   "cell_type": "code",
   "execution_count": 81,
   "metadata": {},
   "outputs": [
    {
     "name": "stdout",
     "output_type": "stream",
     "text": [
      "89671\n"
     ]
    },
    {
     "data": {
      "text/plain": [
       "Index(['Plate ID', 'Vehicle Body Type', 'Vehicle Make', 'Violation Location',\n",
       "       'Issuer Command', 'Issuer Squad', 'Violation Time',\n",
       "       'Time First Observed', 'Violation County',\n",
       "       'Violation In Front Of Or Opposite', 'Number', 'Street',\n",
       "       'Intersecting Street', 'Violation Legal Code',\n",
       "       'Days Parking In Effect    ', 'From Hours In Effect',\n",
       "       'To Hours In Effect', 'Vehicle Color', 'Unregistered Vehicle?',\n",
       "       'Meter Number', 'Violation Post Code', 'Violation Description',\n",
       "       'No Standing or Stopping Violation', 'Hydrant Violation',\n",
       "       'Double Parking Violation'],\n",
       "      dtype='object')"
      ]
     },
     "execution_count": 81,
     "metadata": {},
     "output_type": "execute_result"
    }
   ],
   "source": [
    "print(df.isnull().sum().sum()) # Se suman todos los NAN que hay en el DF\n",
    "df.columns[df.isnull().any()] # En qué columnas hay NAN"
   ]
  },
  {
   "cell_type": "code",
   "execution_count": 65,
   "metadata": {},
   "outputs": [
    {
     "ename": "KeyError",
     "evalue": "\"None of [Index([<bound method DataFrame.dropna of       Unnamed: 0  Summons Number    Plate ID Registration State Plate Type  \\\\\\\\n0        7192124      7684215310     24824MD                 NY        COM   \\\\n1        1399831      5070680213    9TOPCLAS                 NY        OMT   \\\\n2        5369188      1356951855     GEL1573                 NY        PAS   \\\\n3        6338606      7713806271     EDU1026                 NY        PAS   \\\\n4        2823881      7645478044     DXX6460                 NY        PAS   \\\\n...          ...             ...         ...                ...        ...   \\\\n9995       51871      1359994981     42799JW                 NY        COM   \\\\n9996     2178598      7531580299  BLANKPLATE                 99        999   \\\\n9997     5536586      1353773541     FXW2962                 NY        PAS   \\\\n9998     1127482      7207594008     CLR2162                 NY        PAS   \\\\n9999     2822344      7536561775     DJG9703                 NY        PAS   \\\\n\\\\n      Issue Date  Violation Code Vehicle Body Type Vehicle Make  \\\\\\\\n0     04/23/2014              71               VAN         FRIG   \\\\n1     09/14/2013               7              4DSD        DODGE   \\\\n2     02/13/2014              71              SUBN        HONDA   \\\\n3     03/20/2014              21              SUBN        TOYOT   \\\\n4     11/01/2013              20              4DSD        HONDA   \\\\n...          ...             ...               ...          ...   \\\\n9995  07/24/2013              14               VAN          FRG   \\\\n9996  10/10/2013              21               MCY        TRIUM   \\\\n9997  02/21/2014              16               SDN        MAZDA   \\\\n9998  09/05/2013              37              4DSD        HONDA   \\\\n9999  11/01/2013              46              SUBN        HONDA   \\\\n\\\\n     Issuing Agency  ...  Vehicle Color  Unregistered Vehicle?  Vehicle Year  \\\\\\\\n0                 T  ...             WH                    NaN        2004.0   \\\\n1                 V  ...             BK                    NaN        2008.0   \\\\n2                 P  ...            NaN                    0.0        2006.0   \\\\n3                 T  ...             GY                    NaN        2008.0   \\\\n4                 T  ...             MR                    NaN        1996.0   \\\\n...             ...  ...            ...                    ...           ...   \\\\n9995              P  ...           WHIT                    0.0        2007.0   \\\\n9996              T  ...          BLACK                    NaN           0.0   \\\\n9997              T  ...             GR                    0.0        1996.0   \\\\n9998              T  ...          SILVE                    NaN        2006.0   \\\\n9999              T  ...          BLACK                    NaN        2005.0   \\\\n\\\\n      Meter Number  Feet From Curb  Violation Post Code  \\\\\\\\n0              NaN             0.0                 01 4   \\\\n1              NaN             0.0                  NaN   \\\\n2                -             0.0                  NaN   \\\\n3              NaN             0.0                 14 4   \\\\n4              NaN             0.0                 03-A   \\\\n...            ...             ...                  ...   \\\\n9995             -             0.0                  NaN   \\\\n9996           NaN             0.0                 01 -   \\\\n9997             -             0.0                  NaN   \\\\n9998      495-0067             0.0                 52-P   \\\\n9999           NaN             0.0                 06 -   \\\\n\\\\n               Violation Description  No Standing or Stopping Violation  \\\\\\\\n0     71A-Insp Sticker Expired (NYS)                                NaN   \\\\n1       FAILURE TO STOP AT RED LIGHT                                NaN   \\\\n2                                NaN                                NaN   \\\\n3       21-No Parking (street clean)                                NaN   \\\\n4           20A-No Parking (Non-COM)                                NaN   \\\\n...                              ...                                ...   \\\\n9995                             NaN                                NaN   \\\\n9996    21-No Parking (street clean)                                NaN   \\\\n9997                             NaN                                NaN   \\\\n9998           37-Expired Muni Meter                                NaN   \\\\n9999    46A-Double Parking (Non-COM)                                NaN   \\\\n\\\\n     Hydrant Violation Double Parking Violation  \\\\n0                  NaN                      NaN  \\\\n1                  NaN                      NaN  \\\\n2                  NaN                      NaN  \\\\n3                  NaN                      NaN  \\\\n4                  NaN                      NaN  \\\\n...                ...                      ...  \\\\n9995               NaN                      NaN  \\\\n9996               NaN                      NaN  \\\\n9997               NaN                      NaN  \\\\n9998               NaN                      NaN  \\\\n9999               NaN                      NaN  \\\\n\\\\n[10000 rows x 44 columns]>], dtype='object')] are in the [columns]\"",
     "output_type": "error",
     "traceback": [
      "\u001b[1;31m---------------------------------------------------------------------------\u001b[0m",
      "\u001b[1;31mKeyError\u001b[0m                                  Traceback (most recent call last)",
      "Cell \u001b[1;32mIn[65], line 1\u001b[0m\n\u001b[1;32m----> 1\u001b[0m df_sin_nan \u001b[38;5;241m=\u001b[39m \u001b[43mdf\u001b[49m\u001b[43m[\u001b[49m\u001b[43m[\u001b[49m\u001b[43mdf\u001b[49m\u001b[38;5;241;43m.\u001b[39;49m\u001b[43mdropna\u001b[49m\u001b[43m]\u001b[49m\u001b[43m]\u001b[49m\n\u001b[0;32m      2\u001b[0m \u001b[38;5;28mtype\u001b[39m(df_sin_nan)\n\u001b[0;32m      3\u001b[0m \u001b[38;5;66;03m# df_sin_nan.info()\u001b[39;00m\n\u001b[0;32m      4\u001b[0m \n\u001b[0;32m      5\u001b[0m \u001b[38;5;66;03m# df_sin_nan.columns[df.isnull().any()]\u001b[39;00m\n",
      "File \u001b[1;32mc:\\Users\\MSI\\AppData\\Local\\Programs\\Python\\Python312\\Lib\\site-packages\\pandas\\core\\frame.py:3899\u001b[0m, in \u001b[0;36mDataFrame.__getitem__\u001b[1;34m(self, key)\u001b[0m\n\u001b[0;32m   3897\u001b[0m     \u001b[38;5;28;01mif\u001b[39;00m is_iterator(key):\n\u001b[0;32m   3898\u001b[0m         key \u001b[38;5;241m=\u001b[39m \u001b[38;5;28mlist\u001b[39m(key)\n\u001b[1;32m-> 3899\u001b[0m     indexer \u001b[38;5;241m=\u001b[39m \u001b[38;5;28;43mself\u001b[39;49m\u001b[38;5;241;43m.\u001b[39;49m\u001b[43mcolumns\u001b[49m\u001b[38;5;241;43m.\u001b[39;49m\u001b[43m_get_indexer_strict\u001b[49m\u001b[43m(\u001b[49m\u001b[43mkey\u001b[49m\u001b[43m,\u001b[49m\u001b[43m \u001b[49m\u001b[38;5;124;43m\"\u001b[39;49m\u001b[38;5;124;43mcolumns\u001b[39;49m\u001b[38;5;124;43m\"\u001b[39;49m\u001b[43m)\u001b[49m[\u001b[38;5;241m1\u001b[39m]\n\u001b[0;32m   3901\u001b[0m \u001b[38;5;66;03m# take() does not accept boolean indexers\u001b[39;00m\n\u001b[0;32m   3902\u001b[0m \u001b[38;5;28;01mif\u001b[39;00m \u001b[38;5;28mgetattr\u001b[39m(indexer, \u001b[38;5;124m\"\u001b[39m\u001b[38;5;124mdtype\u001b[39m\u001b[38;5;124m\"\u001b[39m, \u001b[38;5;28;01mNone\u001b[39;00m) \u001b[38;5;241m==\u001b[39m \u001b[38;5;28mbool\u001b[39m:\n",
      "File \u001b[1;32mc:\\Users\\MSI\\AppData\\Local\\Programs\\Python\\Python312\\Lib\\site-packages\\pandas\\core\\indexes\\base.py:6114\u001b[0m, in \u001b[0;36mIndex._get_indexer_strict\u001b[1;34m(self, key, axis_name)\u001b[0m\n\u001b[0;32m   6111\u001b[0m \u001b[38;5;28;01melse\u001b[39;00m:\n\u001b[0;32m   6112\u001b[0m     keyarr, indexer, new_indexer \u001b[38;5;241m=\u001b[39m \u001b[38;5;28mself\u001b[39m\u001b[38;5;241m.\u001b[39m_reindex_non_unique(keyarr)\n\u001b[1;32m-> 6114\u001b[0m \u001b[38;5;28;43mself\u001b[39;49m\u001b[38;5;241;43m.\u001b[39;49m\u001b[43m_raise_if_missing\u001b[49m\u001b[43m(\u001b[49m\u001b[43mkeyarr\u001b[49m\u001b[43m,\u001b[49m\u001b[43m \u001b[49m\u001b[43mindexer\u001b[49m\u001b[43m,\u001b[49m\u001b[43m \u001b[49m\u001b[43maxis_name\u001b[49m\u001b[43m)\u001b[49m\n\u001b[0;32m   6116\u001b[0m keyarr \u001b[38;5;241m=\u001b[39m \u001b[38;5;28mself\u001b[39m\u001b[38;5;241m.\u001b[39mtake(indexer)\n\u001b[0;32m   6117\u001b[0m \u001b[38;5;28;01mif\u001b[39;00m \u001b[38;5;28misinstance\u001b[39m(key, Index):\n\u001b[0;32m   6118\u001b[0m     \u001b[38;5;66;03m# GH 42790 - Preserve name from an Index\u001b[39;00m\n",
      "File \u001b[1;32mc:\\Users\\MSI\\AppData\\Local\\Programs\\Python\\Python312\\Lib\\site-packages\\pandas\\core\\indexes\\base.py:6175\u001b[0m, in \u001b[0;36mIndex._raise_if_missing\u001b[1;34m(self, key, indexer, axis_name)\u001b[0m\n\u001b[0;32m   6173\u001b[0m     \u001b[38;5;28;01mif\u001b[39;00m use_interval_msg:\n\u001b[0;32m   6174\u001b[0m         key \u001b[38;5;241m=\u001b[39m \u001b[38;5;28mlist\u001b[39m(key)\n\u001b[1;32m-> 6175\u001b[0m     \u001b[38;5;28;01mraise\u001b[39;00m \u001b[38;5;167;01mKeyError\u001b[39;00m(\u001b[38;5;124mf\u001b[39m\u001b[38;5;124m\"\u001b[39m\u001b[38;5;124mNone of [\u001b[39m\u001b[38;5;132;01m{\u001b[39;00mkey\u001b[38;5;132;01m}\u001b[39;00m\u001b[38;5;124m] are in the [\u001b[39m\u001b[38;5;132;01m{\u001b[39;00maxis_name\u001b[38;5;132;01m}\u001b[39;00m\u001b[38;5;124m]\u001b[39m\u001b[38;5;124m\"\u001b[39m)\n\u001b[0;32m   6177\u001b[0m not_found \u001b[38;5;241m=\u001b[39m \u001b[38;5;28mlist\u001b[39m(ensure_index(key)[missing_mask\u001b[38;5;241m.\u001b[39mnonzero()[\u001b[38;5;241m0\u001b[39m]]\u001b[38;5;241m.\u001b[39munique())\n\u001b[0;32m   6178\u001b[0m \u001b[38;5;28;01mraise\u001b[39;00m \u001b[38;5;167;01mKeyError\u001b[39;00m(\u001b[38;5;124mf\u001b[39m\u001b[38;5;124m\"\u001b[39m\u001b[38;5;132;01m{\u001b[39;00mnot_found\u001b[38;5;132;01m}\u001b[39;00m\u001b[38;5;124m not in index\u001b[39m\u001b[38;5;124m\"\u001b[39m)\n",
      "\u001b[1;31mKeyError\u001b[0m: \"None of [Index([<bound method DataFrame.dropna of       Unnamed: 0  Summons Number    Plate ID Registration State Plate Type  \\\\\\\\n0        7192124      7684215310     24824MD                 NY        COM   \\\\n1        1399831      5070680213    9TOPCLAS                 NY        OMT   \\\\n2        5369188      1356951855     GEL1573                 NY        PAS   \\\\n3        6338606      7713806271     EDU1026                 NY        PAS   \\\\n4        2823881      7645478044     DXX6460                 NY        PAS   \\\\n...          ...             ...         ...                ...        ...   \\\\n9995       51871      1359994981     42799JW                 NY        COM   \\\\n9996     2178598      7531580299  BLANKPLATE                 99        999   \\\\n9997     5536586      1353773541     FXW2962                 NY        PAS   \\\\n9998     1127482      7207594008     CLR2162                 NY        PAS   \\\\n9999     2822344      7536561775     DJG9703                 NY        PAS   \\\\n\\\\n      Issue Date  Violation Code Vehicle Body Type Vehicle Make  \\\\\\\\n0     04/23/2014              71               VAN         FRIG   \\\\n1     09/14/2013               7              4DSD        DODGE   \\\\n2     02/13/2014              71              SUBN        HONDA   \\\\n3     03/20/2014              21              SUBN        TOYOT   \\\\n4     11/01/2013              20              4DSD        HONDA   \\\\n...          ...             ...               ...          ...   \\\\n9995  07/24/2013              14               VAN          FRG   \\\\n9996  10/10/2013              21               MCY        TRIUM   \\\\n9997  02/21/2014              16               SDN        MAZDA   \\\\n9998  09/05/2013              37              4DSD        HONDA   \\\\n9999  11/01/2013              46              SUBN        HONDA   \\\\n\\\\n     Issuing Agency  ...  Vehicle Color  Unregistered Vehicle?  Vehicle Year  \\\\\\\\n0                 T  ...             WH                    NaN        2004.0   \\\\n1                 V  ...             BK                    NaN        2008.0   \\\\n2                 P  ...            NaN                    0.0        2006.0   \\\\n3                 T  ...             GY                    NaN        2008.0   \\\\n4                 T  ...             MR                    NaN        1996.0   \\\\n...             ...  ...            ...                    ...           ...   \\\\n9995              P  ...           WHIT                    0.0        2007.0   \\\\n9996              T  ...          BLACK                    NaN           0.0   \\\\n9997              T  ...             GR                    0.0        1996.0   \\\\n9998              T  ...          SILVE                    NaN        2006.0   \\\\n9999              T  ...          BLACK                    NaN        2005.0   \\\\n\\\\n      Meter Number  Feet From Curb  Violation Post Code  \\\\\\\\n0              NaN             0.0                 01 4   \\\\n1              NaN             0.0                  NaN   \\\\n2                -             0.0                  NaN   \\\\n3              NaN             0.0                 14 4   \\\\n4              NaN             0.0                 03-A   \\\\n...            ...             ...                  ...   \\\\n9995             -             0.0                  NaN   \\\\n9996           NaN             0.0                 01 -   \\\\n9997             -             0.0                  NaN   \\\\n9998      495-0067             0.0                 52-P   \\\\n9999           NaN             0.0                 06 -   \\\\n\\\\n               Violation Description  No Standing or Stopping Violation  \\\\\\\\n0     71A-Insp Sticker Expired (NYS)                                NaN   \\\\n1       FAILURE TO STOP AT RED LIGHT                                NaN   \\\\n2                                NaN                                NaN   \\\\n3       21-No Parking (street clean)                                NaN   \\\\n4           20A-No Parking (Non-COM)                                NaN   \\\\n...                              ...                                ...   \\\\n9995                             NaN                                NaN   \\\\n9996    21-No Parking (street clean)                                NaN   \\\\n9997                             NaN                                NaN   \\\\n9998           37-Expired Muni Meter                                NaN   \\\\n9999    46A-Double Parking (Non-COM)                                NaN   \\\\n\\\\n     Hydrant Violation Double Parking Violation  \\\\n0                  NaN                      NaN  \\\\n1                  NaN                      NaN  \\\\n2                  NaN                      NaN  \\\\n3                  NaN                      NaN  \\\\n4                  NaN                      NaN  \\\\n...                ...                      ...  \\\\n9995               NaN                      NaN  \\\\n9996               NaN                      NaN  \\\\n9997               NaN                      NaN  \\\\n9998               NaN                      NaN  \\\\n9999               NaN                      NaN  \\\\n\\\\n[10000 rows x 44 columns]>], dtype='object')] are in the [columns]\""
     ]
    }
   ],
   "source": [
    "df_sin_nan = df[[df.dropna]]\n",
    "type(df_sin_nan)\n",
    "# df_sin_nan.info()\n",
    "\n",
    "# df_sin_nan.columns[df.isnull().any()]\n"
   ]
  },
  {
   "cell_type": "code",
   "execution_count": 74,
   "metadata": {},
   "outputs": [
    {
     "name": "stdout",
     "output_type": "stream",
     "text": [
      "Empty DataFrame\n",
      "Columns: []\n",
      "Index: []\n"
     ]
    }
   ],
   "source": [
    "null_columns=df.columns[df.isnull().any()]\n",
    "df[null_columns].isnull().sum()\n",
    "print(df[df.isnull().any(axis=1)][null_columns].head())"
   ]
  },
  {
   "cell_type": "code",
   "execution_count": null,
   "metadata": {},
   "outputs": [
    {
     "name": "stdout",
     "output_type": "stream",
     "text": [
      "0\n"
     ]
    },
    {
     "data": {
      "text/plain": [
       "(10000, 19)"
      ]
     },
     "execution_count": 97,
     "metadata": {},
     "output_type": "execute_result"
    }
   ],
   "source": [
    "df1=df\n",
    "\n",
    "df1.dropna(axis=1,inplace=True)\n",
    "\n",
    "print(df1.isnull().sum().sum())\n",
    "\n",
    "print(df.shape) # ahora solo hay 19 columnas, no ha sido buena idea\n",
    "df1\n",
    "\n"
   ]
  },
  {
   "cell_type": "code",
   "execution_count": null,
   "metadata": {},
   "outputs": [
    {
     "name": "stdout",
     "output_type": "stream",
     "text": [
      "89671\n"
     ]
    }
   ],
   "source": []
  },
  {
   "cell_type": "markdown",
   "metadata": {},
   "source": [
    "### B) Elimina todas las muestras donde la fecha no tenga coherencia: `Vehicle Year`, además transformalas a enteros (2024,2012,2006,etc.)"
   ]
  },
  {
   "cell_type": "code",
   "execution_count": null,
   "metadata": {},
   "outputs": [],
   "source": []
  },
  {
   "cell_type": "markdown",
   "metadata": {},
   "source": [
    "### C) Hay marcas de vehículos que no guardan sentido con ninguna marca real (`Vehicle Make`) elimina dichas muestras. Deja constancia de cuantas has borrado."
   ]
  },
  {
   "cell_type": "code",
   "execution_count": null,
   "metadata": {},
   "outputs": [],
   "source": []
  },
  {
   "cell_type": "markdown",
   "metadata": {
    "vscode": {
     "languageId": "plaintext"
    }
   },
   "source": [
    "### D) Representa en un grafíco de barras la cantidad de vehículos (por marca `Vehicle Make`) "
   ]
  },
  {
   "cell_type": "code",
   "execution_count": null,
   "metadata": {},
   "outputs": [],
   "source": []
  },
  {
   "cell_type": "markdown",
   "metadata": {},
   "source": [
    "### E) Unifica lo máximo que puedas la terminología de colores. Por ejemplo, valores como `WH` y `wh`y `wh\\`hacen referencia al `white`"
   ]
  },
  {
   "cell_type": "code",
   "execution_count": null,
   "metadata": {},
   "outputs": [],
   "source": []
  },
  {
   "cell_type": "markdown",
   "metadata": {},
   "source": [
    "### F) Representa en un gráfico de barras las marca de vehículo segmentadas por colores de vehículos."
   ]
  },
  {
   "cell_type": "code",
   "execution_count": null,
   "metadata": {},
   "outputs": [],
   "source": []
  },
  {
   "cell_type": "markdown",
   "metadata": {},
   "source": [
    "### H) Subé este código a tu repositorio. Incluye un documento Readme.md Indicando tan solo: \"H\""
   ]
  },
  {
   "cell_type": "markdown",
   "metadata": {},
   "source": [
    "### I) Convierte la serie `Issue Date` en una serie temporal y contabiliza las multas por `Violation Code[] y més del Issue Date."
   ]
  },
  {
   "cell_type": "code",
   "execution_count": null,
   "metadata": {},
   "outputs": [],
   "source": []
  },
  {
   "cell_type": "markdown",
   "metadata": {},
   "source": [
    "### J) Visualiza la anterior cuestión (I)"
   ]
  },
  {
   "cell_type": "markdown",
   "metadata": {},
   "source": []
  },
  {
   "cell_type": "markdown",
   "metadata": {},
   "source": [
    "### K) Subé este código a tu repositorio. Sustituye la 'H' del readme.md por un 'end'"
   ]
  },
  {
   "cell_type": "markdown",
   "metadata": {},
   "source": []
  }
 ],
 "metadata": {
  "kernelspec": {
   "display_name": "Python 3",
   "language": "python",
   "name": "python3"
  },
  "language_info": {
   "codemirror_mode": {
    "name": "ipython",
    "version": 3
   },
   "file_extension": ".py",
   "mimetype": "text/x-python",
   "name": "python",
   "nbconvert_exporter": "python",
   "pygments_lexer": "ipython3",
   "version": "3.12.0"
  }
 },
 "nbformat": 4,
 "nbformat_minor": 2
}
