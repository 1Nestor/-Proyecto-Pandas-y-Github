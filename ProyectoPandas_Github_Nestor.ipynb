{
 "cells": [
  {
   "cell_type": "markdown",
   "metadata": {},
   "source": [
    "# Proyecto 1. Pandas\n",
    "Con el fichero Fichero `sample_NYC_parking_issues.csv`\n",
    "\n",
    "\n",
    "**Importante:** los cambios se arrastran en las siguientes preguntas.\n",
    "\n",
    "\n",
    "### Crea un proyecto en Github para esta entrega e incluye un fichero Readme.md\n",
    "Asegurate que es público ya que solo se puede entregar la URL del proyecto en github.\n",
    "<hr/>"
   ]
  },
  {
   "cell_type": "markdown",
   "metadata": {},
   "source": []
  },
  {
   "cell_type": "code",
   "execution_count": 8,
   "metadata": {},
   "outputs": [],
   "source": [
    "import pandas as pd\n",
    "import numpy as np\n"
   ]
  },
  {
   "cell_type": "code",
   "execution_count": 102,
   "metadata": {},
   "outputs": [
    {
     "data": {
      "text/plain": [
       "(10000, 44)"
      ]
     },
     "execution_count": 102,
     "metadata": {},
     "output_type": "execute_result"
    }
   ],
   "source": [
    "path=(\"C:/Users/MSI/Desktop/Entrega_python_pandas_Nestor/\")\n",
    "df=pd.read_csv(path+\"sample_NYC_parking_issues.csv\",sep=\";\")\n",
    "df.head\n",
    "df.shape"
   ]
  },
  {
   "cell_type": "markdown",
   "metadata": {},
   "source": [
    "### A) Limpia el dataframe de aquellas columnas con todos sus campos a NAN"
   ]
  },
  {
   "cell_type": "code",
   "execution_count": 103,
   "metadata": {},
   "outputs": [
    {
     "name": "stdout",
     "output_type": "stream",
     "text": [
      "Unnamed: 0                               0\n",
      "Summons Number                           0\n",
      "Plate ID                                 2\n",
      "Registration State                       0\n",
      "Plate Type                               0\n",
      "Issue Date                               0\n",
      "Violation Code                           0\n",
      "Vehicle Body Type                      113\n",
      "Vehicle Make                            82\n",
      "Issuing Agency                           0\n",
      "Street Code1                             0\n",
      "Street Code2                             0\n",
      "Street Code3                             0\n",
      "Vehicle Expiration Date                  0\n",
      "Violation Location                     727\n",
      "Violation Precinct                       0\n",
      "Issuer Precinct                          0\n",
      "Issuer Code                              0\n",
      "Issuer Command                         708\n",
      "Issuer Squad                           708\n",
      "Violation Time                           1\n",
      "Time First Observed                   8903\n",
      "Violation County                       760\n",
      "Violation In Front Of Or Opposite      821\n",
      "Number                                 916\n",
      "Street                                   2\n",
      "Intersecting Street                   7962\n",
      "Date First Observed                      0\n",
      "Law Section                              0\n",
      "Sub Division                             0\n",
      "Violation Legal Code                  9291\n",
      "Days Parking In Effect                1529\n",
      "From Hours In Effect                  3620\n",
      "To Hours In Effect                    3620\n",
      "Vehicle Color                           69\n",
      "Unregistered Vehicle?                 8622\n",
      "Vehicle Year                             0\n",
      "Meter Number                          7752\n",
      "Feet From Curb                           0\n",
      "Violation Post Code                   2085\n",
      "Violation Description                 1378\n",
      "No Standing or Stopping Violation    10000\n",
      "Hydrant Violation                    10000\n",
      "Double Parking Violation             10000\n",
      "dtype: int64\n"
     ]
    },
    {
     "data": {
      "text/plain": [
       "89671"
      ]
     },
     "execution_count": 103,
     "metadata": {},
     "output_type": "execute_result"
    }
   ],
   "source": [
    "print(df.isnull().sum()) # para saber cuantos NAN hay por columan en el DF. Al haber tantas columans no permite visualizar bien\n",
    "\n",
    "df.isnull().sum().sum() # Se suman todos los NAN que hay en el DF\n"
   ]
  },
  {
   "cell_type": "code",
   "execution_count": 104,
   "metadata": {},
   "outputs": [
    {
     "name": "stdout",
     "output_type": "stream",
     "text": [
      "89671\n"
     ]
    },
    {
     "data": {
      "text/plain": [
       "Index(['Plate ID', 'Vehicle Body Type', 'Vehicle Make', 'Violation Location',\n",
       "       'Issuer Command', 'Issuer Squad', 'Violation Time',\n",
       "       'Time First Observed', 'Violation County',\n",
       "       'Violation In Front Of Or Opposite', 'Number', 'Street',\n",
       "       'Intersecting Street', 'Violation Legal Code',\n",
       "       'Days Parking In Effect    ', 'From Hours In Effect',\n",
       "       'To Hours In Effect', 'Vehicle Color', 'Unregistered Vehicle?',\n",
       "       'Meter Number', 'Violation Post Code', 'Violation Description',\n",
       "       'No Standing or Stopping Violation', 'Hydrant Violation',\n",
       "       'Double Parking Violation'],\n",
       "      dtype='object')"
      ]
     },
     "execution_count": 104,
     "metadata": {},
     "output_type": "execute_result"
    }
   ],
   "source": [
    "print(df.isnull().sum().sum()) # Se suman todos los NAN que hay en el DF\n",
    "df.columns[df.isnull().any()] # En qué columnas hay NAN"
   ]
  },
  {
   "cell_type": "code",
   "execution_count": 105,
   "metadata": {},
   "outputs": [
    {
     "ename": "KeyError",
     "evalue": "\"None of [Index([<bound method DataFrame.dropna of       Unnamed: 0  Summons Number    Plate ID Registration State Plate Type  \\\\\\\\n0        7192124      7684215310     24824MD                 NY        COM   \\\\n1        1399831      5070680213    9TOPCLAS                 NY        OMT   \\\\n2        5369188      1356951855     GEL1573                 NY        PAS   \\\\n3        6338606      7713806271     EDU1026                 NY        PAS   \\\\n4        2823881      7645478044     DXX6460                 NY        PAS   \\\\n...          ...             ...         ...                ...        ...   \\\\n9995       51871      1359994981     42799JW                 NY        COM   \\\\n9996     2178598      7531580299  BLANKPLATE                 99        999   \\\\n9997     5536586      1353773541     FXW2962                 NY        PAS   \\\\n9998     1127482      7207594008     CLR2162                 NY        PAS   \\\\n9999     2822344      7536561775     DJG9703                 NY        PAS   \\\\n\\\\n      Issue Date  Violation Code Vehicle Body Type Vehicle Make  \\\\\\\\n0     04/23/2014              71               VAN         FRIG   \\\\n1     09/14/2013               7              4DSD        DODGE   \\\\n2     02/13/2014              71              SUBN        HONDA   \\\\n3     03/20/2014              21              SUBN        TOYOT   \\\\n4     11/01/2013              20              4DSD        HONDA   \\\\n...          ...             ...               ...          ...   \\\\n9995  07/24/2013              14               VAN          FRG   \\\\n9996  10/10/2013              21               MCY        TRIUM   \\\\n9997  02/21/2014              16               SDN        MAZDA   \\\\n9998  09/05/2013              37              4DSD        HONDA   \\\\n9999  11/01/2013              46              SUBN        HONDA   \\\\n\\\\n     Issuing Agency  ...  Vehicle Color  Unregistered Vehicle?  Vehicle Year  \\\\\\\\n0                 T  ...             WH                    NaN        2004.0   \\\\n1                 V  ...             BK                    NaN        2008.0   \\\\n2                 P  ...            NaN                    0.0        2006.0   \\\\n3                 T  ...             GY                    NaN        2008.0   \\\\n4                 T  ...             MR                    NaN        1996.0   \\\\n...             ...  ...            ...                    ...           ...   \\\\n9995              P  ...           WHIT                    0.0        2007.0   \\\\n9996              T  ...          BLACK                    NaN           0.0   \\\\n9997              T  ...             GR                    0.0        1996.0   \\\\n9998              T  ...          SILVE                    NaN        2006.0   \\\\n9999              T  ...          BLACK                    NaN        2005.0   \\\\n\\\\n      Meter Number  Feet From Curb  Violation Post Code  \\\\\\\\n0              NaN             0.0                 01 4   \\\\n1              NaN             0.0                  NaN   \\\\n2                -             0.0                  NaN   \\\\n3              NaN             0.0                 14 4   \\\\n4              NaN             0.0                 03-A   \\\\n...            ...             ...                  ...   \\\\n9995             -             0.0                  NaN   \\\\n9996           NaN             0.0                 01 -   \\\\n9997             -             0.0                  NaN   \\\\n9998      495-0067             0.0                 52-P   \\\\n9999           NaN             0.0                 06 -   \\\\n\\\\n               Violation Description  No Standing or Stopping Violation  \\\\\\\\n0     71A-Insp Sticker Expired (NYS)                                NaN   \\\\n1       FAILURE TO STOP AT RED LIGHT                                NaN   \\\\n2                                NaN                                NaN   \\\\n3       21-No Parking (street clean)                                NaN   \\\\n4           20A-No Parking (Non-COM)                                NaN   \\\\n...                              ...                                ...   \\\\n9995                             NaN                                NaN   \\\\n9996    21-No Parking (street clean)                                NaN   \\\\n9997                             NaN                                NaN   \\\\n9998           37-Expired Muni Meter                                NaN   \\\\n9999    46A-Double Parking (Non-COM)                                NaN   \\\\n\\\\n     Hydrant Violation Double Parking Violation  \\\\n0                  NaN                      NaN  \\\\n1                  NaN                      NaN  \\\\n2                  NaN                      NaN  \\\\n3                  NaN                      NaN  \\\\n4                  NaN                      NaN  \\\\n...                ...                      ...  \\\\n9995               NaN                      NaN  \\\\n9996               NaN                      NaN  \\\\n9997               NaN                      NaN  \\\\n9998               NaN                      NaN  \\\\n9999               NaN                      NaN  \\\\n\\\\n[10000 rows x 44 columns]>], dtype='object')] are in the [columns]\"",
     "output_type": "error",
     "traceback": [
      "\u001b[1;31m---------------------------------------------------------------------------\u001b[0m",
      "\u001b[1;31mKeyError\u001b[0m                                  Traceback (most recent call last)",
      "Cell \u001b[1;32mIn[105], line 1\u001b[0m\n\u001b[1;32m----> 1\u001b[0m df_sin_nan \u001b[38;5;241m=\u001b[39m \u001b[43mdf\u001b[49m\u001b[43m[\u001b[49m\u001b[43m[\u001b[49m\u001b[43mdf\u001b[49m\u001b[38;5;241;43m.\u001b[39;49m\u001b[43mdropna\u001b[49m\u001b[43m]\u001b[49m\u001b[43m]\u001b[49m\n\u001b[0;32m      2\u001b[0m \u001b[38;5;28mtype\u001b[39m(df_sin_nan)\n\u001b[0;32m      3\u001b[0m \u001b[38;5;66;03m# df_sin_nan.info()\u001b[39;00m\n\u001b[0;32m      4\u001b[0m \n\u001b[0;32m      5\u001b[0m \u001b[38;5;66;03m# df_sin_nan.columns[df.isnull().any()]\u001b[39;00m\n",
      "File \u001b[1;32mc:\\Users\\MSI\\AppData\\Local\\Programs\\Python\\Python312\\Lib\\site-packages\\pandas\\core\\frame.py:3899\u001b[0m, in \u001b[0;36mDataFrame.__getitem__\u001b[1;34m(self, key)\u001b[0m\n\u001b[0;32m   3897\u001b[0m     \u001b[38;5;28;01mif\u001b[39;00m is_iterator(key):\n\u001b[0;32m   3898\u001b[0m         key \u001b[38;5;241m=\u001b[39m \u001b[38;5;28mlist\u001b[39m(key)\n\u001b[1;32m-> 3899\u001b[0m     indexer \u001b[38;5;241m=\u001b[39m \u001b[38;5;28;43mself\u001b[39;49m\u001b[38;5;241;43m.\u001b[39;49m\u001b[43mcolumns\u001b[49m\u001b[38;5;241;43m.\u001b[39;49m\u001b[43m_get_indexer_strict\u001b[49m\u001b[43m(\u001b[49m\u001b[43mkey\u001b[49m\u001b[43m,\u001b[49m\u001b[43m \u001b[49m\u001b[38;5;124;43m\"\u001b[39;49m\u001b[38;5;124;43mcolumns\u001b[39;49m\u001b[38;5;124;43m\"\u001b[39;49m\u001b[43m)\u001b[49m[\u001b[38;5;241m1\u001b[39m]\n\u001b[0;32m   3901\u001b[0m \u001b[38;5;66;03m# take() does not accept boolean indexers\u001b[39;00m\n\u001b[0;32m   3902\u001b[0m \u001b[38;5;28;01mif\u001b[39;00m \u001b[38;5;28mgetattr\u001b[39m(indexer, \u001b[38;5;124m\"\u001b[39m\u001b[38;5;124mdtype\u001b[39m\u001b[38;5;124m\"\u001b[39m, \u001b[38;5;28;01mNone\u001b[39;00m) \u001b[38;5;241m==\u001b[39m \u001b[38;5;28mbool\u001b[39m:\n",
      "File \u001b[1;32mc:\\Users\\MSI\\AppData\\Local\\Programs\\Python\\Python312\\Lib\\site-packages\\pandas\\core\\indexes\\base.py:6114\u001b[0m, in \u001b[0;36mIndex._get_indexer_strict\u001b[1;34m(self, key, axis_name)\u001b[0m\n\u001b[0;32m   6111\u001b[0m \u001b[38;5;28;01melse\u001b[39;00m:\n\u001b[0;32m   6112\u001b[0m     keyarr, indexer, new_indexer \u001b[38;5;241m=\u001b[39m \u001b[38;5;28mself\u001b[39m\u001b[38;5;241m.\u001b[39m_reindex_non_unique(keyarr)\n\u001b[1;32m-> 6114\u001b[0m \u001b[38;5;28;43mself\u001b[39;49m\u001b[38;5;241;43m.\u001b[39;49m\u001b[43m_raise_if_missing\u001b[49m\u001b[43m(\u001b[49m\u001b[43mkeyarr\u001b[49m\u001b[43m,\u001b[49m\u001b[43m \u001b[49m\u001b[43mindexer\u001b[49m\u001b[43m,\u001b[49m\u001b[43m \u001b[49m\u001b[43maxis_name\u001b[49m\u001b[43m)\u001b[49m\n\u001b[0;32m   6116\u001b[0m keyarr \u001b[38;5;241m=\u001b[39m \u001b[38;5;28mself\u001b[39m\u001b[38;5;241m.\u001b[39mtake(indexer)\n\u001b[0;32m   6117\u001b[0m \u001b[38;5;28;01mif\u001b[39;00m \u001b[38;5;28misinstance\u001b[39m(key, Index):\n\u001b[0;32m   6118\u001b[0m     \u001b[38;5;66;03m# GH 42790 - Preserve name from an Index\u001b[39;00m\n",
      "File \u001b[1;32mc:\\Users\\MSI\\AppData\\Local\\Programs\\Python\\Python312\\Lib\\site-packages\\pandas\\core\\indexes\\base.py:6175\u001b[0m, in \u001b[0;36mIndex._raise_if_missing\u001b[1;34m(self, key, indexer, axis_name)\u001b[0m\n\u001b[0;32m   6173\u001b[0m     \u001b[38;5;28;01mif\u001b[39;00m use_interval_msg:\n\u001b[0;32m   6174\u001b[0m         key \u001b[38;5;241m=\u001b[39m \u001b[38;5;28mlist\u001b[39m(key)\n\u001b[1;32m-> 6175\u001b[0m     \u001b[38;5;28;01mraise\u001b[39;00m \u001b[38;5;167;01mKeyError\u001b[39;00m(\u001b[38;5;124mf\u001b[39m\u001b[38;5;124m\"\u001b[39m\u001b[38;5;124mNone of [\u001b[39m\u001b[38;5;132;01m{\u001b[39;00mkey\u001b[38;5;132;01m}\u001b[39;00m\u001b[38;5;124m] are in the [\u001b[39m\u001b[38;5;132;01m{\u001b[39;00maxis_name\u001b[38;5;132;01m}\u001b[39;00m\u001b[38;5;124m]\u001b[39m\u001b[38;5;124m\"\u001b[39m)\n\u001b[0;32m   6177\u001b[0m not_found \u001b[38;5;241m=\u001b[39m \u001b[38;5;28mlist\u001b[39m(ensure_index(key)[missing_mask\u001b[38;5;241m.\u001b[39mnonzero()[\u001b[38;5;241m0\u001b[39m]]\u001b[38;5;241m.\u001b[39munique())\n\u001b[0;32m   6178\u001b[0m \u001b[38;5;28;01mraise\u001b[39;00m \u001b[38;5;167;01mKeyError\u001b[39;00m(\u001b[38;5;124mf\u001b[39m\u001b[38;5;124m\"\u001b[39m\u001b[38;5;132;01m{\u001b[39;00mnot_found\u001b[38;5;132;01m}\u001b[39;00m\u001b[38;5;124m not in index\u001b[39m\u001b[38;5;124m\"\u001b[39m)\n",
      "\u001b[1;31mKeyError\u001b[0m: \"None of [Index([<bound method DataFrame.dropna of       Unnamed: 0  Summons Number    Plate ID Registration State Plate Type  \\\\\\\\n0        7192124      7684215310     24824MD                 NY        COM   \\\\n1        1399831      5070680213    9TOPCLAS                 NY        OMT   \\\\n2        5369188      1356951855     GEL1573                 NY        PAS   \\\\n3        6338606      7713806271     EDU1026                 NY        PAS   \\\\n4        2823881      7645478044     DXX6460                 NY        PAS   \\\\n...          ...             ...         ...                ...        ...   \\\\n9995       51871      1359994981     42799JW                 NY        COM   \\\\n9996     2178598      7531580299  BLANKPLATE                 99        999   \\\\n9997     5536586      1353773541     FXW2962                 NY        PAS   \\\\n9998     1127482      7207594008     CLR2162                 NY        PAS   \\\\n9999     2822344      7536561775     DJG9703                 NY        PAS   \\\\n\\\\n      Issue Date  Violation Code Vehicle Body Type Vehicle Make  \\\\\\\\n0     04/23/2014              71               VAN         FRIG   \\\\n1     09/14/2013               7              4DSD        DODGE   \\\\n2     02/13/2014              71              SUBN        HONDA   \\\\n3     03/20/2014              21              SUBN        TOYOT   \\\\n4     11/01/2013              20              4DSD        HONDA   \\\\n...          ...             ...               ...          ...   \\\\n9995  07/24/2013              14               VAN          FRG   \\\\n9996  10/10/2013              21               MCY        TRIUM   \\\\n9997  02/21/2014              16               SDN        MAZDA   \\\\n9998  09/05/2013              37              4DSD        HONDA   \\\\n9999  11/01/2013              46              SUBN        HONDA   \\\\n\\\\n     Issuing Agency  ...  Vehicle Color  Unregistered Vehicle?  Vehicle Year  \\\\\\\\n0                 T  ...             WH                    NaN        2004.0   \\\\n1                 V  ...             BK                    NaN        2008.0   \\\\n2                 P  ...            NaN                    0.0        2006.0   \\\\n3                 T  ...             GY                    NaN        2008.0   \\\\n4                 T  ...             MR                    NaN        1996.0   \\\\n...             ...  ...            ...                    ...           ...   \\\\n9995              P  ...           WHIT                    0.0        2007.0   \\\\n9996              T  ...          BLACK                    NaN           0.0   \\\\n9997              T  ...             GR                    0.0        1996.0   \\\\n9998              T  ...          SILVE                    NaN        2006.0   \\\\n9999              T  ...          BLACK                    NaN        2005.0   \\\\n\\\\n      Meter Number  Feet From Curb  Violation Post Code  \\\\\\\\n0              NaN             0.0                 01 4   \\\\n1              NaN             0.0                  NaN   \\\\n2                -             0.0                  NaN   \\\\n3              NaN             0.0                 14 4   \\\\n4              NaN             0.0                 03-A   \\\\n...            ...             ...                  ...   \\\\n9995             -             0.0                  NaN   \\\\n9996           NaN             0.0                 01 -   \\\\n9997             -             0.0                  NaN   \\\\n9998      495-0067             0.0                 52-P   \\\\n9999           NaN             0.0                 06 -   \\\\n\\\\n               Violation Description  No Standing or Stopping Violation  \\\\\\\\n0     71A-Insp Sticker Expired (NYS)                                NaN   \\\\n1       FAILURE TO STOP AT RED LIGHT                                NaN   \\\\n2                                NaN                                NaN   \\\\n3       21-No Parking (street clean)                                NaN   \\\\n4           20A-No Parking (Non-COM)                                NaN   \\\\n...                              ...                                ...   \\\\n9995                             NaN                                NaN   \\\\n9996    21-No Parking (street clean)                                NaN   \\\\n9997                             NaN                                NaN   \\\\n9998           37-Expired Muni Meter                                NaN   \\\\n9999    46A-Double Parking (Non-COM)                                NaN   \\\\n\\\\n     Hydrant Violation Double Parking Violation  \\\\n0                  NaN                      NaN  \\\\n1                  NaN                      NaN  \\\\n2                  NaN                      NaN  \\\\n3                  NaN                      NaN  \\\\n4                  NaN                      NaN  \\\\n...                ...                      ...  \\\\n9995               NaN                      NaN  \\\\n9996               NaN                      NaN  \\\\n9997               NaN                      NaN  \\\\n9998               NaN                      NaN  \\\\n9999               NaN                      NaN  \\\\n\\\\n[10000 rows x 44 columns]>], dtype='object')] are in the [columns]\""
     ]
    }
   ],
   "source": [
    "df_sin_nan = df[[df.dropna]]\n",
    "type(df_sin_nan)\n",
    "# df_sin_nan.info()\n",
    "\n",
    "# df_sin_nan.columns[df.isnull().any()]\n"
   ]
  },
  {
   "cell_type": "code",
   "execution_count": null,
   "metadata": {},
   "outputs": [
    {
     "data": {
      "text/plain": [
       "Plate ID                                 2\n",
       "Vehicle Body Type                      113\n",
       "Vehicle Make                            82\n",
       "Violation Location                     727\n",
       "Issuer Command                         708\n",
       "Issuer Squad                           708\n",
       "Violation Time                           1\n",
       "Time First Observed                   8903\n",
       "Violation County                       760\n",
       "Violation In Front Of Or Opposite      821\n",
       "Number                                 916\n",
       "Street                                   2\n",
       "Intersecting Street                   7962\n",
       "Violation Legal Code                  9291\n",
       "Days Parking In Effect                1529\n",
       "From Hours In Effect                  3620\n",
       "To Hours In Effect                    3620\n",
       "Vehicle Color                           69\n",
       "Unregistered Vehicle?                 8622\n",
       "Meter Number                          7752\n",
       "Violation Post Code                   2085\n",
       "Violation Description                 1378\n",
       "No Standing or Stopping Violation    10000\n",
       "Hydrant Violation                    10000\n",
       "Double Parking Violation             10000\n",
       "dtype: int64"
      ]
     },
     "execution_count": 111,
     "metadata": {},
     "output_type": "execute_result"
    }
   ],
   "source": [
    "col_nan=df.columns[df.isnull().any()] # en qué columnas están los NaN\n",
    "df[col_nan].isnull().sum() # nombres y numeros de columnas con NaN\n",
    "# Una vez visto como están los Nan distribuiods por columnas, se pueden elminar alguans columnas y otras hay qué modificarlas"
   ]
  },
  {
   "cell_type": "code",
   "execution_count": null,
   "metadata": {},
   "outputs": [
    {
     "name": "stdout",
     "output_type": "stream",
     "text": [
      "0\n"
     ]
    },
    {
     "data": {
      "text/plain": [
       "(10000, 19)"
      ]
     },
     "execution_count": 97,
     "metadata": {},
     "output_type": "execute_result"
    }
   ],
   "source": [
    "df1=df\n",
    "\n",
    "df1.dropna(axis=1,inplace=True)\n",
    "\n",
    "print(df1.isnull().sum().sum())\n",
    "\n",
    "print(df.shape) # ahora solo hay 19 columnas, no ha sido buena idea\n",
    "df1\n",
    "\n"
   ]
  },
  {
   "cell_type": "code",
   "execution_count": null,
   "metadata": {},
   "outputs": [
    {
     "name": "stdout",
     "output_type": "stream",
     "text": [
      "89671\n"
     ]
    }
   ],
   "source": []
  },
  {
   "cell_type": "markdown",
   "metadata": {},
   "source": [
    "### B) Elimina todas las muestras donde la fecha no tenga coherencia: `Vehicle Year`, además transformalas a enteros (2024,2012,2006,etc.)"
   ]
  },
  {
   "cell_type": "code",
   "execution_count": null,
   "metadata": {},
   "outputs": [
    {
     "data": {
      "text/html": [
       "<div>\n",
       "<style scoped>\n",
       "    .dataframe tbody tr th:only-of-type {\n",
       "        vertical-align: middle;\n",
       "    }\n",
       "\n",
       "    .dataframe tbody tr th {\n",
       "        vertical-align: top;\n",
       "    }\n",
       "\n",
       "    .dataframe thead th {\n",
       "        text-align: right;\n",
       "    }\n",
       "</style>\n",
       "<table border=\"1\" class=\"dataframe\">\n",
       "  <thead>\n",
       "    <tr style=\"text-align: right;\">\n",
       "      <th></th>\n",
       "      <th>Unnamed: 0</th>\n",
       "      <th>Summons Number</th>\n",
       "      <th>Registration State</th>\n",
       "      <th>Plate Type</th>\n",
       "      <th>Issue Date</th>\n",
       "      <th>Violation Code</th>\n",
       "      <th>Issuing Agency</th>\n",
       "      <th>Street Code1</th>\n",
       "      <th>Street Code2</th>\n",
       "      <th>Street Code3</th>\n",
       "      <th>Vehicle Expiration Date</th>\n",
       "      <th>Violation Precinct</th>\n",
       "      <th>Issuer Precinct</th>\n",
       "      <th>Issuer Code</th>\n",
       "      <th>Date First Observed</th>\n",
       "      <th>Law Section</th>\n",
       "      <th>Sub Division</th>\n",
       "      <th>Vehicle Year</th>\n",
       "      <th>Feet From Curb</th>\n",
       "    </tr>\n",
       "  </thead>\n",
       "  <tbody>\n",
       "    <tr>\n",
       "      <th>0</th>\n",
       "      <td>7192124</td>\n",
       "      <td>7684215310</td>\n",
       "      <td>NY</td>\n",
       "      <td>COM</td>\n",
       "      <td>04/23/2014</td>\n",
       "      <td>71</td>\n",
       "      <td>T</td>\n",
       "      <td>9540</td>\n",
       "      <td>52390</td>\n",
       "      <td>65490</td>\n",
       "      <td>20150331</td>\n",
       "      <td>109</td>\n",
       "      <td>109</td>\n",
       "      <td>357738</td>\n",
       "      <td>0.0</td>\n",
       "      <td>408.0</td>\n",
       "      <td>j6</td>\n",
       "      <td>2004.0</td>\n",
       "      <td>0.0</td>\n",
       "    </tr>\n",
       "    <tr>\n",
       "      <th>1</th>\n",
       "      <td>1399831</td>\n",
       "      <td>5070680213</td>\n",
       "      <td>NY</td>\n",
       "      <td>OMT</td>\n",
       "      <td>09/14/2013</td>\n",
       "      <td>7</td>\n",
       "      <td>V</td>\n",
       "      <td>0</td>\n",
       "      <td>0</td>\n",
       "      <td>0</td>\n",
       "      <td>0</td>\n",
       "      <td>0</td>\n",
       "      <td>0</td>\n",
       "      <td>0</td>\n",
       "      <td>0.0</td>\n",
       "      <td>1111.0</td>\n",
       "      <td>D</td>\n",
       "      <td>2008.0</td>\n",
       "      <td>0.0</td>\n",
       "    </tr>\n",
       "    <tr>\n",
       "      <th>2</th>\n",
       "      <td>5369188</td>\n",
       "      <td>1356951855</td>\n",
       "      <td>NY</td>\n",
       "      <td>PAS</td>\n",
       "      <td>02/13/2014</td>\n",
       "      <td>71</td>\n",
       "      <td>P</td>\n",
       "      <td>11710</td>\n",
       "      <td>37090</td>\n",
       "      <td>37110</td>\n",
       "      <td>0</td>\n",
       "      <td>33</td>\n",
       "      <td>33</td>\n",
       "      <td>938339</td>\n",
       "      <td>0.0</td>\n",
       "      <td>408.0</td>\n",
       "      <td>E2</td>\n",
       "      <td>2006.0</td>\n",
       "      <td>0.0</td>\n",
       "    </tr>\n",
       "    <tr>\n",
       "      <th>3</th>\n",
       "      <td>6338606</td>\n",
       "      <td>7713806271</td>\n",
       "      <td>NY</td>\n",
       "      <td>PAS</td>\n",
       "      <td>03/20/2014</td>\n",
       "      <td>21</td>\n",
       "      <td>T</td>\n",
       "      <td>24440</td>\n",
       "      <td>51090</td>\n",
       "      <td>18450</td>\n",
       "      <td>20151116</td>\n",
       "      <td>103</td>\n",
       "      <td>103</td>\n",
       "      <td>357098</td>\n",
       "      <td>0.0</td>\n",
       "      <td>408.0</td>\n",
       "      <td>d1</td>\n",
       "      <td>2008.0</td>\n",
       "      <td>0.0</td>\n",
       "    </tr>\n",
       "    <tr>\n",
       "      <th>4</th>\n",
       "      <td>2823881</td>\n",
       "      <td>7645478044</td>\n",
       "      <td>NY</td>\n",
       "      <td>PAS</td>\n",
       "      <td>11/01/2013</td>\n",
       "      <td>20</td>\n",
       "      <td>T</td>\n",
       "      <td>54790</td>\n",
       "      <td>0</td>\n",
       "      <td>0</td>\n",
       "      <td>20150205</td>\n",
       "      <td>109</td>\n",
       "      <td>109</td>\n",
       "      <td>358121</td>\n",
       "      <td>0.0</td>\n",
       "      <td>408.0</td>\n",
       "      <td>d</td>\n",
       "      <td>1996.0</td>\n",
       "      <td>0.0</td>\n",
       "    </tr>\n",
       "    <tr>\n",
       "      <th>...</th>\n",
       "      <td>...</td>\n",
       "      <td>...</td>\n",
       "      <td>...</td>\n",
       "      <td>...</td>\n",
       "      <td>...</td>\n",
       "      <td>...</td>\n",
       "      <td>...</td>\n",
       "      <td>...</td>\n",
       "      <td>...</td>\n",
       "      <td>...</td>\n",
       "      <td>...</td>\n",
       "      <td>...</td>\n",
       "      <td>...</td>\n",
       "      <td>...</td>\n",
       "      <td>...</td>\n",
       "      <td>...</td>\n",
       "      <td>...</td>\n",
       "      <td>...</td>\n",
       "      <td>...</td>\n",
       "    </tr>\n",
       "    <tr>\n",
       "      <th>9995</th>\n",
       "      <td>51871</td>\n",
       "      <td>1359994981</td>\n",
       "      <td>NY</td>\n",
       "      <td>COM</td>\n",
       "      <td>07/24/2013</td>\n",
       "      <td>14</td>\n",
       "      <td>P</td>\n",
       "      <td>0</td>\n",
       "      <td>0</td>\n",
       "      <td>0</td>\n",
       "      <td>20150131</td>\n",
       "      <td>0</td>\n",
       "      <td>401</td>\n",
       "      <td>912069</td>\n",
       "      <td>0.0</td>\n",
       "      <td>408.0</td>\n",
       "      <td>C</td>\n",
       "      <td>2007.0</td>\n",
       "      <td>0.0</td>\n",
       "    </tr>\n",
       "    <tr>\n",
       "      <th>9996</th>\n",
       "      <td>2178598</td>\n",
       "      <td>7531580299</td>\n",
       "      <td>99</td>\n",
       "      <td>999</td>\n",
       "      <td>10/10/2013</td>\n",
       "      <td>21</td>\n",
       "      <td>T</td>\n",
       "      <td>44530</td>\n",
       "      <td>89930</td>\n",
       "      <td>42330</td>\n",
       "      <td>88880088</td>\n",
       "      <td>84</td>\n",
       "      <td>84</td>\n",
       "      <td>348529</td>\n",
       "      <td>0.0</td>\n",
       "      <td>408.0</td>\n",
       "      <td>d1</td>\n",
       "      <td>0.0</td>\n",
       "      <td>0.0</td>\n",
       "    </tr>\n",
       "    <tr>\n",
       "      <th>9997</th>\n",
       "      <td>5536586</td>\n",
       "      <td>1353773541</td>\n",
       "      <td>NY</td>\n",
       "      <td>PAS</td>\n",
       "      <td>02/21/2014</td>\n",
       "      <td>16</td>\n",
       "      <td>T</td>\n",
       "      <td>0</td>\n",
       "      <td>0</td>\n",
       "      <td>0</td>\n",
       "      <td>20140503</td>\n",
       "      <td>90</td>\n",
       "      <td>110</td>\n",
       "      <td>350318</td>\n",
       "      <td>0.0</td>\n",
       "      <td>408.0</td>\n",
       "      <td>F6</td>\n",
       "      <td>1996.0</td>\n",
       "      <td>0.0</td>\n",
       "    </tr>\n",
       "    <tr>\n",
       "      <th>9998</th>\n",
       "      <td>1127482</td>\n",
       "      <td>7207594008</td>\n",
       "      <td>NY</td>\n",
       "      <td>PAS</td>\n",
       "      <td>09/05/2013</td>\n",
       "      <td>37</td>\n",
       "      <td>T</td>\n",
       "      <td>37290</td>\n",
       "      <td>40404</td>\n",
       "      <td>40404</td>\n",
       "      <td>20150909</td>\n",
       "      <td>114</td>\n",
       "      <td>114</td>\n",
       "      <td>357749</td>\n",
       "      <td>0.0</td>\n",
       "      <td>408.0</td>\n",
       "      <td>h1</td>\n",
       "      <td>2006.0</td>\n",
       "      <td>0.0</td>\n",
       "    </tr>\n",
       "    <tr>\n",
       "      <th>9999</th>\n",
       "      <td>2822344</td>\n",
       "      <td>7536561775</td>\n",
       "      <td>NY</td>\n",
       "      <td>PAS</td>\n",
       "      <td>11/01/2013</td>\n",
       "      <td>46</td>\n",
       "      <td>T</td>\n",
       "      <td>41630</td>\n",
       "      <td>54130</td>\n",
       "      <td>47130</td>\n",
       "      <td>20150804</td>\n",
       "      <td>88</td>\n",
       "      <td>88</td>\n",
       "      <td>356516</td>\n",
       "      <td>0.0</td>\n",
       "      <td>408.0</td>\n",
       "      <td>f1</td>\n",
       "      <td>2005.0</td>\n",
       "      <td>0.0</td>\n",
       "    </tr>\n",
       "  </tbody>\n",
       "</table>\n",
       "<p>10000 rows × 19 columns</p>\n",
       "</div>"
      ],
      "text/plain": [
       "      Unnamed: 0  Summons Number Registration State Plate Type  Issue Date  \\\n",
       "0        7192124      7684215310                 NY        COM  04/23/2014   \n",
       "1        1399831      5070680213                 NY        OMT  09/14/2013   \n",
       "2        5369188      1356951855                 NY        PAS  02/13/2014   \n",
       "3        6338606      7713806271                 NY        PAS  03/20/2014   \n",
       "4        2823881      7645478044                 NY        PAS  11/01/2013   \n",
       "...          ...             ...                ...        ...         ...   \n",
       "9995       51871      1359994981                 NY        COM  07/24/2013   \n",
       "9996     2178598      7531580299                 99        999  10/10/2013   \n",
       "9997     5536586      1353773541                 NY        PAS  02/21/2014   \n",
       "9998     1127482      7207594008                 NY        PAS  09/05/2013   \n",
       "9999     2822344      7536561775                 NY        PAS  11/01/2013   \n",
       "\n",
       "      Violation Code Issuing Agency  Street Code1  Street Code2  Street Code3  \\\n",
       "0                 71              T          9540         52390         65490   \n",
       "1                  7              V             0             0             0   \n",
       "2                 71              P         11710         37090         37110   \n",
       "3                 21              T         24440         51090         18450   \n",
       "4                 20              T         54790             0             0   \n",
       "...              ...            ...           ...           ...           ...   \n",
       "9995              14              P             0             0             0   \n",
       "9996              21              T         44530         89930         42330   \n",
       "9997              16              T             0             0             0   \n",
       "9998              37              T         37290         40404         40404   \n",
       "9999              46              T         41630         54130         47130   \n",
       "\n",
       "      Vehicle Expiration Date  Violation Precinct  Issuer Precinct  \\\n",
       "0                    20150331                 109              109   \n",
       "1                           0                   0                0   \n",
       "2                           0                  33               33   \n",
       "3                    20151116                 103              103   \n",
       "4                    20150205                 109              109   \n",
       "...                       ...                 ...              ...   \n",
       "9995                 20150131                   0              401   \n",
       "9996                 88880088                  84               84   \n",
       "9997                 20140503                  90              110   \n",
       "9998                 20150909                 114              114   \n",
       "9999                 20150804                  88               88   \n",
       "\n",
       "      Issuer Code  Date First Observed  Law Section Sub Division  \\\n",
       "0          357738                  0.0        408.0           j6   \n",
       "1               0                  0.0       1111.0            D   \n",
       "2          938339                  0.0        408.0           E2   \n",
       "3          357098                  0.0        408.0           d1   \n",
       "4          358121                  0.0        408.0            d   \n",
       "...           ...                  ...          ...          ...   \n",
       "9995       912069                  0.0        408.0            C   \n",
       "9996       348529                  0.0        408.0           d1   \n",
       "9997       350318                  0.0        408.0           F6   \n",
       "9998       357749                  0.0        408.0           h1   \n",
       "9999       356516                  0.0        408.0           f1   \n",
       "\n",
       "      Vehicle Year  Feet From Curb  \n",
       "0           2004.0             0.0  \n",
       "1           2008.0             0.0  \n",
       "2           2006.0             0.0  \n",
       "3           2008.0             0.0  \n",
       "4           1996.0             0.0  \n",
       "...            ...             ...  \n",
       "9995        2007.0             0.0  \n",
       "9996           0.0             0.0  \n",
       "9997        1996.0             0.0  \n",
       "9998        2006.0             0.0  \n",
       "9999        2005.0             0.0  \n",
       "\n",
       "[10000 rows x 19 columns]"
      ]
     },
     "execution_count": 101,
     "metadata": {},
     "output_type": "execute_result"
    }
   ],
   "source": []
  },
  {
   "cell_type": "markdown",
   "metadata": {},
   "source": [
    "### C) Hay marcas de vehículos que no guardan sentido con ninguna marca real (`Vehicle Make`) elimina dichas muestras. Deja constancia de cuantas has borrado."
   ]
  },
  {
   "cell_type": "code",
   "execution_count": null,
   "metadata": {},
   "outputs": [],
   "source": []
  },
  {
   "cell_type": "markdown",
   "metadata": {
    "vscode": {
     "languageId": "plaintext"
    }
   },
   "source": [
    "### D) Representa en un grafíco de barras la cantidad de vehículos (por marca `Vehicle Make`) "
   ]
  },
  {
   "cell_type": "code",
   "execution_count": null,
   "metadata": {},
   "outputs": [],
   "source": []
  },
  {
   "cell_type": "markdown",
   "metadata": {},
   "source": [
    "### E) Unifica lo máximo que puedas la terminología de colores. Por ejemplo, valores como `WH` y `wh`y `wh\\`hacen referencia al `white`"
   ]
  },
  {
   "cell_type": "code",
   "execution_count": null,
   "metadata": {},
   "outputs": [],
   "source": []
  },
  {
   "cell_type": "markdown",
   "metadata": {},
   "source": [
    "### F) Representa en un gráfico de barras las marca de vehículo segmentadas por colores de vehículos."
   ]
  },
  {
   "cell_type": "code",
   "execution_count": null,
   "metadata": {},
   "outputs": [],
   "source": []
  },
  {
   "cell_type": "markdown",
   "metadata": {},
   "source": [
    "### H) Subé este código a tu repositorio. Incluye un documento Readme.md Indicando tan solo: \"H\""
   ]
  },
  {
   "cell_type": "markdown",
   "metadata": {},
   "source": [
    "### I) Convierte la serie `Issue Date` en una serie temporal y contabiliza las multas por `Violation Code[] y més del Issue Date."
   ]
  },
  {
   "cell_type": "code",
   "execution_count": null,
   "metadata": {},
   "outputs": [],
   "source": []
  },
  {
   "cell_type": "markdown",
   "metadata": {},
   "source": [
    "### J) Visualiza la anterior cuestión (I)"
   ]
  },
  {
   "cell_type": "markdown",
   "metadata": {},
   "source": []
  },
  {
   "cell_type": "markdown",
   "metadata": {},
   "source": [
    "### K) Subé este código a tu repositorio. Sustituye la 'H' del readme.md por un 'end'"
   ]
  },
  {
   "cell_type": "markdown",
   "metadata": {},
   "source": []
  }
 ],
 "metadata": {
  "kernelspec": {
   "display_name": "Python 3",
   "language": "python",
   "name": "python3"
  },
  "language_info": {
   "codemirror_mode": {
    "name": "ipython",
    "version": 3
   },
   "file_extension": ".py",
   "mimetype": "text/x-python",
   "name": "python",
   "nbconvert_exporter": "python",
   "pygments_lexer": "ipython3",
   "version": "3.12.0"
  }
 },
 "nbformat": 4,
 "nbformat_minor": 2
}
